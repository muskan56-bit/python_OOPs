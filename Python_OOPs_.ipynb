{
  "nbformat": 4,
  "nbformat_minor": 0,
  "metadata": {
    "colab": {
      "provenance": []
    },
    "kernelspec": {
      "name": "python3",
      "display_name": "Python 3"
    },
    "language_info": {
      "name": "python"
    }
  },
  "cells": [
    {
      "cell_type": "markdown",
      "source": [
        "#Python OOPs Questions"
      ],
      "metadata": {
        "id": "FtrZWLtjTO6I"
      }
    },
    {
      "cell_type": "markdown",
      "source": [
        "q.no.1)What is Object-Oriented Programming (OOP)?"
      ],
      "metadata": {
        "id": "CtIvzAL4Tg04"
      }
    },
    {
      "cell_type": "markdown",
      "source": [
        "      -> OOPs are \"object\" based coding in programmanig this paradigm which contain data and code ,there data is represented attributes and code represent methods ,there are objects are independent they call any ware."
      ],
      "metadata": {
        "id": "UNDDYti6ToG_"
      }
    },
    {
      "cell_type": "markdown",
      "source": [
        "q.no.2) What is a class in OOP?"
      ],
      "metadata": {
        "id": "jjmP9921U_Hx"
      }
    },
    {
      "cell_type": "markdown",
      "source": [
        "      -> In oops class is a blueprint ,its contain which part of code ,that shows how do the work this contain methods,construction,globle variable"
      ],
      "metadata": {
        "id": "wVmMy3dvVEXX"
      }
    },
    {
      "cell_type": "markdown",
      "source": [
        "q.no.3)  What is an object in OOP?"
      ],
      "metadata": {
        "id": "cFosJCQWXuIK"
      }
    },
    {
      "cell_type": "markdown",
      "source": [
        "    -> In oops , object is real entity if class is blueprint ,n object is actual entity which make by blueprint"
      ],
      "metadata": {
        "id": "i8QtUKjPYR9Q"
      }
    },
    {
      "cell_type": "markdown",
      "source": [
        "q.no.4) What is the difference between abstraction and encapsulation"
      ],
      "metadata": {
        "id": "F-uoQ3LvYmlo"
      }
    },
    {
      "cell_type": "markdown",
      "source": [
        "      ->  they both are fundamental principle of OOP,.they make sure in programm information are \"hide\"  \n",
        "      abstraction are data hide by abtract or interface the class ,without provide the actual code for them\n",
        "      encapsulation,they help by access modifiers like private,protected,public\n",
        "      they all apply on class"
      ],
      "metadata": {
        "id": "FhL7gA0tYyUz"
      }
    },
    {
      "cell_type": "markdown",
      "source": [
        "q.no.5)What are dunder methods in Python?"
      ],
      "metadata": {
        "id": "zbTief4UaXOq"
      }
    },
    {
      "cell_type": "markdown",
      "source": [
        "    -> this \"double underscore\" methods these methods are special that have start and end with double underscore ,costomize the object they are buit=in fuction in python"
      ],
      "metadata": {
        "id": "5lYzYce9amVI"
      }
    },
    {
      "cell_type": "markdown",
      "source": [
        "q.no.6) Explain the concept of inheritance in OOP?"
      ],
      "metadata": {
        "id": "jaZ-4EKGbOlq"
      }
    },
    {
      "cell_type": "markdown",
      "source": [
        "    -> this is fundamental principle of OOPs, that allow a class to be based on an existing class ,this all about creating parent class or child class (super class,subclass)\n",
        "    superclass are main class which contain the all methoeds or attributes and subclass are inherit that class with additionnal features that means this class is use all methodes or attributes of superclass"
      ],
      "metadata": {
        "id": "9qHdo_07cOs8"
      }
    },
    {
      "cell_type": "markdown",
      "source": [
        "q.no.7) What is polymorphism in OOP?"
      ],
      "metadata": {
        "id": "g_9TWxh_qh9w"
      }
    },
    {
      "cell_type": "markdown",
      "source": [
        "      -> Polymorphism allows you to write code that is more flexible and generic. Instead of writing specific code for each type of object, you can write code that works with a common base class. This makes your code easier to extend and maintain in other words this support method overriding"
      ],
      "metadata": {
        "id": "jXSNY_H-qtFe"
      }
    },
    {
      "cell_type": "markdown",
      "source": [
        "q.no.8)H How is encapsulation achieved in Python?"
      ],
      "metadata": {
        "id": "QEAw4Ob-rBde"
      }
    },
    {
      "cell_type": "markdown",
      "source": [
        "    -> in python encapsulation provide three modifiers public, private,protected\n",
        "    they all are help to hide the data\n",
        "    public-this defult modifier, there no need of special syntex these attributes are access anywhere in the class or out the class\n",
        "\n",
        "    private-this prifixing member with double underscore , these attributes are difiend by \"__\" in class this hard to access directly outside of class but by getter or setter we access the attribute\n",
        "\n",
        "    protected- - this is also prifixing modifier with single underscore this is use for internal or by its subclass not external"
      ],
      "metadata": {
        "id": "GnAYFVEwrGsm"
      }
    },
    {
      "cell_type": "markdown",
      "source": [
        "q.no.9)What is a constructor in Python?"
      ],
      "metadata": {
        "id": "yQpaLXz3tuKf"
      }
    },
    {
      "cell_type": "markdown",
      "source": [
        "      -> this is inmpliment by dunder method (__init__) , this method are automatically call when create a new object the main purpose of constructor to set up the inital value of object's  attribute"
      ],
      "metadata": {
        "id": "y5t3mjpet5T5"
      }
    },
    {
      "cell_type": "markdown",
      "source": [
        "q.no.10) What are class and static methods in Python?"
      ],
      "metadata": {
        "id": "WuudEmdZuxru"
      }
    },
    {
      "cell_type": "markdown",
      "source": [
        "    -> In Python, both class methods and static methods are alternative ways to define methods within a class, but they serve different purposes and have distinct characteristics compared to regular instance methods."
      ],
      "metadata": {
        "id": "OBJ2Uz2Au4fn"
      }
    },
    {
      "cell_type": "markdown",
      "source": [
        "q.no.11)What is method overloading in Python?"
      ],
      "metadata": {
        "id": "ebIHNPWq4lQU"
      }
    },
    {
      "cell_type": "markdown",
      "source": [
        "    ->Method overloading is a feature in some object-oriented programming languages that allows a class to have multiple methods with the same name but different parameters"
      ],
      "metadata": {
        "id": "dSEIpw4B4u0_"
      }
    },
    {
      "cell_type": "markdown",
      "source": [
        "q.no.12)What is method overriding in OOP?"
      ],
      "metadata": {
        "id": "le9HhPGo4wn8"
      }
    },
    {
      "cell_type": "markdown",
      "source": [
        "    -> That is closely related to inheritance and polymorphism. It allows a child class to provide a specific implementation for a method that is already defined in its parent class."
      ],
      "metadata": {
        "id": "cubnDN-N43tY"
      }
    },
    {
      "cell_type": "markdown",
      "source": [
        "q.no.13) What is a property decorator in Python?"
      ],
      "metadata": {
        "id": "FRzP9iT95CCo"
      }
    },
    {
      "cell_type": "markdown",
      "source": [
        "    -> The @property decorator is a built-in feature in Python that provides a \"Pythonic\" way to achieve encapsulation and create managed attributes in a class. It allows you to define methods that can be accessed like attributes, without the need for parentheses."
      ],
      "metadata": {
        "id": "aH7iNQVA5G4g"
      }
    },
    {
      "cell_type": "markdown",
      "source": [
        "q.no.14) Why is polymorphism important in OOP?"
      ],
      "metadata": {
        "id": "Rnbh-Go96DLh"
      }
    },
    {
      "cell_type": "markdown",
      "source": [
        "    ->Its importance stems from its ability to allow a single interface to represent different underlying data types.this is  creating flexible, maintainable, and reusable code."
      ],
      "metadata": {
        "id": "8u58XuhN6H2i"
      }
    },
    {
      "cell_type": "markdown",
      "source": [
        "q.no.15) What is an abstract class in Python?"
      ],
      "metadata": {
        "id": "E9X_1WEd6Z1h"
      }
    },
    {
      "cell_type": "markdown",
      "source": [
        "      -> abstract class is a blueprint or a template for other class Abstract classes are a key part of the concept of abstraction in OOP The main purpose of an abstract class is to define a set of methods that all of its subclasses must implement. This ensures that any class derived from the abstract class adheres to a specific contract."
      ],
      "metadata": {
        "id": "qr4F_7oU6fkL"
      }
    },
    {
      "cell_type": "markdown",
      "source": [
        "q.no.16)What are the advantages of OOP?"
      ],
      "metadata": {
        "id": "Kwng15cB64D9"
      }
    },
    {
      "cell_type": "markdown",
      "source": [
        "    ->OOPs has many advantages ,and these few advantages are - reusability (inheritance),modularity(break the complex problem into small),data hideing (encapsulation),polymorphism,abstraction"
      ],
      "metadata": {
        "id": "pA9lWwO97AzY"
      }
    },
    {
      "cell_type": "markdown",
      "source": [
        "q.no.17)What is the difference between a class variable and an instance variable?"
      ],
      "metadata": {
        "id": "wNmqRjmZbxL3"
      }
    },
    {
      "cell_type": "markdown",
      "source": [
        "      -> class variable - A class variable is a variable that is shared by all instances of a class. It is associated with the class itself, not with any particular object.\n",
        "      \n",
        "      instance variable- An instance variable is a variable that is unique to each instance (object) of a class. Each object has its own copy of the instance variables, allowing it to have its own state."
      ],
      "metadata": {
        "id": "7sj6jI8vb4L9"
      }
    },
    {
      "cell_type": "markdown",
      "source": [
        "q.no.18) What is multiple inheritance in Python?"
      ],
      "metadata": {
        "id": "VnIA6LYScZZs"
      }
    },
    {
      "cell_type": "markdown",
      "source": [
        "      -> A class can inherit attributes and methods from more than one parent class. This allows a new class, known as the child or derived class, to combine the functionalities of multiple existing classes."
      ],
      "metadata": {
        "id": "SpSC-g93cgDW"
      }
    },
    {
      "cell_type": "markdown",
      "source": [
        "q.no.19)Explain the purpose of ‘’__str__’ and ‘__repr__’ ‘ methods in Python ?"
      ],
      "metadata": {
        "id": "9eqEWP6Xc2uP"
      }
    },
    {
      "cell_type": "markdown",
      "source": [
        "      -> they both are dunder method.\n",
        "\n",
        "      __str__ - The __str__ method is meant to provide a user-friendly, readable string representation of an object. Its primary purpose is to be an informal, human-readable description.\n",
        "\n",
        "      __rep__ - The __str__ method is meant to provide a user-friendly, readable string representation of an object. Its primary purpose is to be an informal, human-readable description."
      ],
      "metadata": {
        "id": "16Vmcs0CdGs9"
      }
    },
    {
      "cell_type": "markdown",
      "source": [
        "q.no.20) What is the significance of the ‘super()’ function in Python?"
      ],
      "metadata": {
        "id": "1Fav2gZhecX-"
      }
    },
    {
      "cell_type": "markdown",
      "source": [
        "      -> The super() function in Python is a built-in function that is central to the concept of inheritance, particularly in managing complex class hierarchies. Its primary purpose is to provide a way for a subclass to access and call methods of its parent class or classes."
      ],
      "metadata": {
        "id": "0VaUX6FXeifH"
      }
    },
    {
      "cell_type": "markdown",
      "source": [
        "q.no.21)What is the significance of the __del__ method in Python?"
      ],
      "metadata": {
        "id": "rlpZO7lYe6c-"
      }
    },
    {
      "cell_type": "markdown",
      "source": [
        "      -> The __del__ method in Python is a special \"dunder\" method that acts as a destructor. Its primary significance is to provide a mechanism for an object to perform cleanup actions just before it is destroyed and its memory is reclaimed by the garbage collector."
      ],
      "metadata": {
        "id": "_8PGyQ5QfEI-"
      }
    },
    {
      "cell_type": "markdown",
      "source": [
        "q.no.22) What is the difference between @staticmethod and @classmethod in Python?"
      ],
      "metadata": {
        "id": "yreLtFD0gRD2"
      }
    },
    {
      "cell_type": "markdown",
      "source": [
        "      ->staticmethod -A staticmethod is a method that belongs to the class but does not have access to either the instance or the class itself. It behaves just like a regular function, but it is grouped under the class's namespace for logical organization.\n",
        "      \n",
        "       classmethod - A classmethod is a method that is bound to the class, not the instance. It has access to the class itself but not a specific instance."
      ],
      "metadata": {
        "id": "04Xa43WNgZo5"
      }
    },
    {
      "cell_type": "markdown",
      "source": [
        "q.no.23) How does polymorphism work in Python with inheritance?"
      ],
      "metadata": {
        "id": "VzsT--pbhBFw"
      }
    },
    {
      "cell_type": "markdown",
      "source": [
        "      ->The foundation of polymorphism is the idea of a shared interface. This means that a group of related classes, often in an inheritance hierarchy, all implement a method with the same name. Even though the method has the same name, its behavior is specific to each class. This is a powerful concept that leads to more flexible, scalable, and maintainable code. In Python, polymorphism with inheritance is achieved primarily through method overriding."
      ],
      "metadata": {
        "id": "_9HDpodihJ9r"
      }
    },
    {
      "cell_type": "markdown",
      "source": [
        "q.no.24)  What is method chaining in Python OOP?"
      ],
      "metadata": {
        "id": "fVd4V8kBhZVG"
      }
    },
    {
      "cell_type": "markdown",
      "source": [
        "      -> Method chaining, also known as fluent interface, is a programming technique in which multiple methods are called sequentially on the same object. In Object-Oriented Programming (OOP), this is achieved by having each method return a reference to the object itself (self), which allows the next method in the chain to be called immediately."
      ],
      "metadata": {
        "id": "UChs2UKThfBm"
      }
    },
    {
      "cell_type": "markdown",
      "source": [
        "q.no.25) What is the purpose of the __call__ method in Python?"
      ],
      "metadata": {
        "id": "_OZq7WzEhtDW"
      }
    },
    {
      "cell_type": "markdown",
      "source": [
        "      -> The __call__ method in Python is a special method that allows an instance of a class to be treated and called as if it were a function. In other words, if a class implements __call__, its objects become \"callable\" objects"
      ],
      "metadata": {
        "id": "Gty7Eqy6hxL-"
      }
    },
    {
      "cell_type": "markdown",
      "source": [
        "#Practical Questions"
      ],
      "metadata": {
        "id": "L-DxP04Nffoc"
      }
    },
    {
      "cell_type": "markdown",
      "source": [
        "q.no.1)  Create a parent class Animal with a method speak() that prints a generic message. Create a child class Dog\n",
        "that overrides the speak() method to print \"Bark!\"."
      ],
      "metadata": {
        "id": "9hWdUUdGf9ny"
      }
    },
    {
      "cell_type": "code",
      "source": [
        "class animal:\n",
        "  def speak(self):\n",
        "    prints(\"generic message\")\n",
        "class dog(animal):\n",
        "  def speak(self):\n",
        "    print(\"bark!\")"
      ],
      "metadata": {
        "id": "W1oQJVfOhFW3"
      },
      "execution_count": null,
      "outputs": []
    },
    {
      "cell_type": "markdown",
      "source": [
        "q.no.2) Write a program to create an abstract class Shape with a method area(). Derive classes Circle and Rectangle\n",
        "from it and implement the area() method in both."
      ],
      "metadata": {
        "id": "hrR1iUvyhpnl"
      }
    },
    {
      "cell_type": "code",
      "source": [
        "class shape:\n",
        "  def area(self):\n",
        "    print(\"area\")\n",
        "class circle(shape):\n",
        "  def area(self):\n",
        "    print(\"circle\")\n",
        "class rectangle(shape):\n",
        "  def area(self):\n",
        "    print(\"rectangle\")"
      ],
      "metadata": {
        "id": "fSShBjOLhvxG"
      },
      "execution_count": null,
      "outputs": []
    },
    {
      "cell_type": "markdown",
      "source": [
        "q.no.3)Implement a multi-level inheritance scenario where a class Vehicle has an attribute type. Derive a class Car\n",
        "and further derive a class ElectricCar that adds a battery attribute."
      ],
      "metadata": {
        "id": "zXPrkTQliLZ9"
      }
    },
    {
      "cell_type": "code",
      "source": [
        "class vehicle:\n",
        "  def __init__(self,type):\n",
        "    self.type=type\n",
        "class car(vehicle):\n",
        "  def __init__(self,type,model):\n",
        "    super().__init__(type)\n",
        "    self.model=model\n",
        "class  electriccar(car):\n",
        "  def __init__(self,type,model,battery):\n",
        "    super().__init__(type,model)\n",
        "    self.battery=battery"
      ],
      "metadata": {
        "id": "UoNCWL0ziRat"
      },
      "execution_count": null,
      "outputs": []
    },
    {
      "cell_type": "markdown",
      "source": [
        "q.no.4) Demonstrate polymorphism by creating a base class Bird with a method fly(). Create two derived classes\n",
        "Sparrow and Penguin that override the fly() method.\n"
      ],
      "metadata": {
        "id": "SxXCvM6ni2FN"
      }
    },
    {
      "cell_type": "code",
      "source": [
        "class bird:\n",
        "  def fly(self):\n",
        "    print(\"bird can fly\")\n",
        "class sparrow(bird):\n",
        "  def fly(self):\n",
        "    print(\"sparrow can fly\")\n",
        "class penguin(bird):\n",
        "  def fly(self):\n",
        "    print(\"penguin can't fly\")"
      ],
      "metadata": {
        "id": "KpJ1LCp2i6A9"
      },
      "execution_count": null,
      "outputs": []
    },
    {
      "cell_type": "markdown",
      "source": [
        "q.no.5) Write a program to demonstrate encapsulation by creating a class BankAccount with private attributes\n",
        "balance and methods to deposit, withdraw, and check balance."
      ],
      "metadata": {
        "id": "MpIM0AaCjUfZ"
      }
    },
    {
      "cell_type": "code",
      "source": [
        "class bankaccount:\n",
        "  def __init__(self,balance):\n",
        "    self.__balance=balance\n",
        "  def deposit(self,amount):\n",
        "    self.__balance+=amount\n",
        "    def withdraw(self,amount):\n",
        "     if self.__balance>=amount:\n",
        "      self.__balance-=amount\n",
        "     else:\n",
        "      print(\"insufficient balance\")\n",
        "  def checkbalance(self):\n",
        "    return self.__balance"
      ],
      "metadata": {
        "id": "1eiX8DN3jZcE"
      },
      "execution_count": null,
      "outputs": []
    },
    {
      "cell_type": "markdown",
      "source": [
        "q.no.6)Demonstrate runtime polymorphism using a method play() in a base class Instrument. Derive classes Guitar\n",
        "and Piano that implement their own version of play()."
      ],
      "metadata": {
        "id": "E38gQ2Yuj1c9"
      }
    },
    {
      "cell_type": "code",
      "source": [
        "class instrument:\n",
        "  def play(self):\n",
        "    print(\"play\")\n",
        "class guitar(instrument):\n",
        "  def play(self):\n",
        "    print(\"guitar\")\n",
        "class piano(instrument):\n",
        "  def play(self):\n",
        "    print(\"piano\")"
      ],
      "metadata": {
        "id": "G33NZCHhj6pu"
      },
      "execution_count": null,
      "outputs": []
    },
    {
      "cell_type": "markdown",
      "source": [
        "q.no.7)Create a class MathOperations with a class method add_numbers() to add two numbers and a static\n",
        "method subtract_numbers() to subtract two numbers."
      ],
      "metadata": {
        "id": "lm6hJSjDkTb9"
      }
    },
    {
      "cell_type": "code",
      "source": [
        "class mathoperations:\n",
        "  @classmethod\n",
        "  def add_numbers(cls,a,b):\n",
        "    return a+b\n",
        "  @staticmethod\n",
        "  def subtract_numbers(a,b):\n",
        "    return a-b"
      ],
      "metadata": {
        "id": "Y07WjuSlkgId"
      },
      "execution_count": null,
      "outputs": []
    },
    {
      "cell_type": "markdown",
      "source": [
        "q.no.8) Implement a class Person with a class method to count the total number of persons created."
      ],
      "metadata": {
        "id": "F55ac9p0khLs"
      }
    },
    {
      "cell_type": "code",
      "source": [
        "class person:\n",
        "  count=0\n",
        "  def __init__(self):\n",
        "    person.count+=1\n",
        "  @classmethod\n",
        "  def count_persons(cls):\n",
        "    return person.count"
      ],
      "metadata": {
        "id": "YInSJywHlGvv"
      },
      "execution_count": null,
      "outputs": []
    },
    {
      "cell_type": "markdown",
      "source": [
        "q.no.9) Write a class Fraction with attributes numerator and denominator. Override the str method to display the\n",
        "fraction as \"numerator/denominator\"."
      ],
      "metadata": {
        "id": "wvA0KpU6koaM"
      }
    },
    {
      "cell_type": "code",
      "source": [
        "class fraction:\n",
        "  def __init__(self,numenator,denominator):\n",
        "    self.numenator=numenator\n",
        "    self.dnominator=denominator\n",
        "  def __str__(self):\n",
        "    return f\"{self.numenator} / {self.dnominator}\"\n"
      ],
      "metadata": {
        "id": "iPWUwYaslg2L"
      },
      "execution_count": null,
      "outputs": []
    },
    {
      "cell_type": "markdown",
      "source": [
        "q.no.10) Demonstrate operator overloading by creating a class Vector and overriding the add method to add two\n",
        "vectors."
      ],
      "metadata": {
        "id": "B7O5m3Rvvt-z"
      }
    },
    {
      "cell_type": "code",
      "source": [
        "class vector:\n",
        "  def __init__(self,x,y):\n",
        "    self.x=x\n",
        "    self.y=y\n",
        "  def __add__(self,other):\n",
        "    return vector(self.x+other.x,self.y+other.y)"
      ],
      "metadata": {
        "id": "54TWaGgxwQXA"
      },
      "execution_count": null,
      "outputs": []
    },
    {
      "cell_type": "markdown",
      "source": [
        "q.no.11) Create a class Person with attributes name and age. Add a method greet() that prints \"Hello, my name is\n",
        "{name} and I am {age} years old.\""
      ],
      "metadata": {
        "id": "Sx7w82CqvvVG"
      }
    },
    {
      "cell_type": "code",
      "source": [
        "class person:\n",
        "  def __init__(self,name,age):\n",
        "    self.name=name\n",
        "    self.age=age\n",
        "  def greet(self):\n",
        "    print(f\"hello,my name is {self.name} and i am {self.age} years old\")"
      ],
      "metadata": {
        "id": "oWQVZ3yJxC_Q"
      },
      "execution_count": null,
      "outputs": []
    },
    {
      "cell_type": "markdown",
      "source": [
        "q.no.12) Implement a class Student with attributes name and grades. Create a method average_grade() to compute\n",
        "the average of the grades."
      ],
      "metadata": {
        "id": "BYqY35wYvzyn"
      }
    },
    {
      "cell_type": "code",
      "source": [
        "class student:\n",
        "  def __init__(self,name,grades):\n",
        "    self.name=name\n",
        "    self.grades=grades\n",
        "  def average_grade(self):\n",
        "    return sum(self.grades)/len(self.grades)"
      ],
      "metadata": {
        "id": "EWBsO_aHxjGY"
      },
      "execution_count": null,
      "outputs": []
    },
    {
      "cell_type": "markdown",
      "source": [
        "q.no.13) Create a class Rectangle with methods set_dimensions() to set the dimensions and area() to calculate the\n",
        "area.\n",
        "\n",
        "\n"
      ],
      "metadata": {
        "id": "Fm5zfwjfv39n"
      }
    },
    {
      "cell_type": "code",
      "source": [
        "class rectangle:\n",
        "  def __init__(self,length,width):\n",
        "    self.length=length\n",
        "    self.width=width\n",
        "  def set_dimensions(self,length,width):\n",
        "    self.length=length\n",
        "    self.width=width\n",
        "    def area(self):\n",
        "      return self.length*self.width"
      ],
      "metadata": {
        "id": "6NqeQogYx_WZ"
      },
      "execution_count": null,
      "outputs": []
    },
    {
      "cell_type": "markdown",
      "source": [
        " q.no.14) Create a class Employee with a method calculate_salary() that computes the salary based on hours worked\n",
        "and hourly rate. Create a derived class Manager that adds a bonus to the salary"
      ],
      "metadata": {
        "id": "ldtifXKov6j2"
      }
    },
    {
      "cell_type": "code",
      "source": [
        "class Employee:\n",
        "  def calculate_salary(self,hours_worked,hourly_rate):\n",
        "    return hours_worked*hourly_rate\n",
        "\n",
        "class manager(Employee):\n",
        "    def calculate_salary(self,hours_worked,hourly_rate,bonus):\n",
        "      return super().calculate_salary(hours_worked,hourly_rate)+bonus"
      ],
      "metadata": {
        "id": "Z2qtidaGyiwS"
      },
      "execution_count": null,
      "outputs": []
    },
    {
      "cell_type": "markdown",
      "source": [
        "q.no.15) Create a class Product with attributes name, price, and quantity. Implement a method total_price() that\n",
        "calculates the total price of the product."
      ],
      "metadata": {
        "id": "mZkyNzW1v-Fu"
      }
    },
    {
      "cell_type": "code",
      "source": [
        "class product:\n",
        "  def __init__(self,name,price,quantity):\n",
        "    self.name=name\n",
        "    self.price=price\n",
        "    self.quantity=quantity\n",
        "  def total_price(self):\n",
        "    return self.price*self.quantity"
      ],
      "metadata": {
        "id": "Fz9h_OfMzUKC"
      },
      "execution_count": null,
      "outputs": []
    },
    {
      "cell_type": "markdown",
      "source": [
        "q.no.16) Create a class Animal with an abstract method sound(). Create two derived classes Cow and Sheep that\n",
        "implement the sound() method"
      ],
      "metadata": {
        "id": "Dcng4WuMwCHP"
      }
    },
    {
      "cell_type": "code",
      "source": [
        "class animal:\n",
        "  def sound(self):\n",
        "    print(\"animal\")\n",
        "class cow(animal):\n",
        "  def sound(self):\n",
        "    print(\"moo\")\n",
        "class sheep(animal):\n",
        "  def sound(self):\n",
        "    print(\"baa\")"
      ],
      "metadata": {
        "id": "VhOfA4T7ziBA"
      },
      "execution_count": null,
      "outputs": []
    },
    {
      "cell_type": "markdown",
      "source": [
        "q.no.17) Create a class Book with attributes title, author, and year_published. Add a method get_book_info() that\n",
        "returns a formatted string with the book's details."
      ],
      "metadata": {
        "id": "XHHZBuScwDgP"
      }
    },
    {
      "cell_type": "code",
      "source": [
        "class book:\n",
        "  def __init__(self,title,author,year_published):\n",
        "    self.title=title\n",
        "    self.author=author\n",
        "    self.year_published=year_published\n",
        "\n",
        "  def get_book_info(self):\n",
        "     return f\"title:{self.title},author:{self.author},year_published:{self.year_published}\"\n"
      ],
      "metadata": {
        "id": "KWWdX2KMzxrc"
      },
      "execution_count": null,
      "outputs": []
    },
    {
      "cell_type": "markdown",
      "source": [
        "q.no.18) Create a class House with attributes address and price. Create a derived class Mansion that adds an\n",
        "attribute number_of_rooms."
      ],
      "metadata": {
        "id": "wqD2b8JOwIeX"
      }
    },
    {
      "cell_type": "code",
      "source": [
        "class house:\n",
        "  def __init__(self,address,price):\n",
        "    self.address=address\n",
        "    self.price=price\n",
        "class mansion(house):\n",
        "  def __init__(self,address,price,number_of_rooms):\n",
        "    super().__init__(address,price)\n",
        "    self.number_of_rooms=number_of_rooms\n"
      ],
      "metadata": {
        "id": "yHcJ6FK20muB"
      },
      "execution_count": null,
      "outputs": []
    }
  ]
}